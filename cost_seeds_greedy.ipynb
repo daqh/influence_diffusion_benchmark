{
 "cells": [
  {
   "cell_type": "code",
   "execution_count": 1,
   "id": "98d02110",
   "metadata": {},
   "outputs": [
    {
     "name": "stderr",
     "output_type": "stream",
     "text": [
      "/home/valerio/Documents/influence_diffusion_benchmark/.venv/lib/python3.13/site-packages/tqdm/auto.py:21: TqdmWarning: IProgress not found. Please update jupyter and ipywidgets. See https://ipywidgets.readthedocs.io/en/stable/user_install.html\n",
      "  from .autonotebook import tqdm as notebook_tqdm\n"
     ]
    }
   ],
   "source": [
    "import networkx as nx\n",
    "import matplotlib.pyplot as plt\n",
    "from math import ceil\n",
    "import numpy as np\n",
    "from tqdm.auto import tqdm\n",
    "from os import makedirs\n",
    "import pickle as pkl\n",
    "\n",
    "makedirs(f\"data/processed\", exist_ok=True)"
   ]
  },
  {
   "cell_type": "code",
   "execution_count": 2,
   "id": "b0599bae",
   "metadata": {},
   "outputs": [
    {
     "name": "stdout",
     "output_type": "stream",
     "text": [
      "make: Nothing to be done for 'all'.\n"
     ]
    }
   ],
   "source": [
    "import os\n",
    "\n",
    "os.environ[\"LIBRARY_PATH\"] = \"/usr/lib/llvm-20/lib\"\n",
    "os.environ[\"LD_LIBRARY_PATH\"] = \"/usr/lib/llvm-20/lib\"\n",
    "\n",
    "!make"
   ]
  },
  {
   "cell_type": "code",
   "execution_count": 3,
   "id": "b08a94c3",
   "metadata": {},
   "outputs": [],
   "source": [
    "NUM_THREADS = 24\n",
    "NUM_STEPS = 50\n",
    "COST_FN = \"uniform\"\n",
    "DATASET_NAME = \"lastfm_asia\""
   ]
  },
  {
   "cell_type": "code",
   "execution_count": 4,
   "id": "41182a06",
   "metadata": {},
   "outputs": [],
   "source": [
    "makedirs(f\"results/{DATASET_NAME}\", exist_ok=True)"
   ]
  },
  {
   "cell_type": "markdown",
   "id": "16c402be",
   "metadata": {},
   "source": [
    "## 1. Data preparation\n",
    "\n",
    "### Read the data"
   ]
  },
  {
   "cell_type": "code",
   "execution_count": 5,
   "id": "3cf9483e",
   "metadata": {},
   "outputs": [
    {
     "name": "stdout",
     "output_type": "stream",
     "text": [
      "Number of nodes: 7624\n",
      "Number of nodes in largest component: 7624\n",
      "Number of edges: 27806\n"
     ]
    }
   ],
   "source": [
    "G = nx.Graph()\n",
    "with open(f\"data/raw/{DATASET_NAME}_edges.csv\", \"r\") as f:\n",
    "    f.readline()  # Skip header\n",
    "    for line in f:\n",
    "        a, b = map(int, line.strip().split(\",\"))\n",
    "        G.add_edge(a, b)\n",
    "print(f\"Number of nodes: {G.number_of_nodes()}\")\n",
    "G = nx.Graph(nx.subgraph(G, max(list(nx.connected_components(G)), key=len))) # Keep only the largest component\n",
    "print(f\"Number of nodes in largest component: {G.number_of_nodes()}\")\n",
    "print(\"Number of edges:\", G.number_of_edges())"
   ]
  },
  {
   "cell_type": "markdown",
   "id": "ecb24401",
   "metadata": {},
   "source": [
    "### Save the largest connected component"
   ]
  },
  {
   "cell_type": "code",
   "execution_count": 6,
   "id": "4bfb6d7d",
   "metadata": {},
   "outputs": [],
   "source": [
    "with open(f\"data/processed/{DATASET_NAME}_edges.csv\", \"w\") as f:\n",
    "    for e in G.edges():\n",
    "        f.write(f\"{e[0]},{e[1]}\\n\")"
   ]
  },
  {
   "cell_type": "markdown",
   "id": "62f0e9f0",
   "metadata": {},
   "source": [
    "## 2. Definizione della funzione di costo"
   ]
  },
  {
   "cell_type": "code",
   "execution_count": 7,
   "id": "4d45d5fc",
   "metadata": {},
   "outputs": [],
   "source": [
    "from collections import defaultdict\n",
    "\n",
    "degrees = defaultdict(int, nx.degree(G)) # Degree of each node\n",
    "\n",
    "if COST_FN == \"degree\":\n",
    "    max_k = np.sum(np.array(list(degrees.values())) / 2).item()\n",
    "elif COST_FN == \"uniform\":\n",
    "    max_k = G.number_of_nodes()\n",
    "else:\n",
    "    raise ValueError(f\"Unknown cost function: {COST_FN}\")"
   ]
  },
  {
   "cell_type": "code",
   "execution_count": 8,
   "id": "3bedb7ed",
   "metadata": {},
   "outputs": [
    {
     "name": "stderr",
     "output_type": "stream",
     "text": [
      "100%|██████████| 50/50 [8:31:56<00:00, 614.34s/it]   \n"
     ]
    }
   ],
   "source": [
    "for k in tqdm(range(1, int(max_k), ceil((max_k - 1) / NUM_STEPS))):\n",
    "    output = !time ./diff.out ./data/processed/{DATASET_NAME}_edges.csv {NUM_THREADS} {COST_FN} {k}\n",
    "    S = set(map(int, output[2:-6]))\n",
    "    overall_k, desired_k = output[-5].split(\"/\")\n",
    "    time = output[-3].split()[1]\n",
    "    with open(f\"results/{DATASET_NAME}/{COST_FN}_greedy_{k}.pkl\", \"wb\") as f:\n",
    "        pkl.dump((S, overall_k, desired_k, time), f)"
   ]
  },
  {
   "cell_type": "markdown",
   "id": "d16ac851",
   "metadata": {},
   "source": [
    "### Save the largest connected component"
   ]
  }
 ],
 "metadata": {
  "kernelspec": {
   "display_name": ".venv",
   "language": "python",
   "name": "python3"
  },
  "language_info": {
   "codemirror_mode": {
    "name": "ipython",
    "version": 3
   },
   "file_extension": ".py",
   "mimetype": "text/x-python",
   "name": "python",
   "nbconvert_exporter": "python",
   "pygments_lexer": "ipython3",
   "version": "3.13.3"
  }
 },
 "nbformat": 4,
 "nbformat_minor": 5
}
