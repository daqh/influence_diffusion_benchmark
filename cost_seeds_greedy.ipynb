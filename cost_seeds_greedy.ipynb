{
 "cells": [
  {
   "cell_type": "code",
   "execution_count": 1,
   "id": "98d02110",
   "metadata": {},
   "outputs": [
    {
     "name": "stderr",
     "output_type": "stream",
     "text": [
      "/home/valerio/Documents/influence_diffusion/.venv/lib/python3.13/site-packages/tqdm/auto.py:21: TqdmWarning: IProgress not found. Please update jupyter and ipywidgets. See https://ipywidgets.readthedocs.io/en/stable/user_install.html\n",
      "  from .autonotebook import tqdm as notebook_tqdm\n"
     ]
    }
   ],
   "source": [
    "import networkx as nx\n",
    "import matplotlib.pyplot as plt\n",
    "from math import ceil\n",
    "import numpy as np\n",
    "from tqdm.auto import tqdm\n",
    "from os import makedirs\n",
    "\n",
    "makedirs(f\"data/processed\", exist_ok=True)"
   ]
  },
  {
   "cell_type": "code",
   "execution_count": null,
   "id": "b0599bae",
   "metadata": {},
   "outputs": [],
   "source": [
    "import os\n",
    "\n",
    "os.environ[\"LIBRARY_PATH\"] = \"/usr/lib/llvm-20/lib\"\n",
    "os.environ[\"LD_LIBRARY_PATH\"] = \"/usr/lib/llvm-20/lib\"\n",
    "\n",
    "!make"
   ]
  },
  {
   "cell_type": "code",
   "execution_count": 3,
   "id": "b08a94c3",
   "metadata": {},
   "outputs": [],
   "source": [
    "NUM_THREADS = 24\n",
    "COST_FN = \"uniform\"\n",
    "DATASET_NAME = \"lastfm_asia\""
   ]
  },
  {
   "cell_type": "markdown",
   "id": "16c402be",
   "metadata": {},
   "source": [
    "## 1. Data preparation\n",
    "\n",
    "### Read the data"
   ]
  },
  {
   "cell_type": "code",
   "execution_count": 4,
   "id": "3cf9483e",
   "metadata": {},
   "outputs": [
    {
     "name": "stdout",
     "output_type": "stream",
     "text": [
      "Number of nodes: 7624\n",
      "Number of nodes in largest component: 7624\n",
      "Number of edges: 27806\n"
     ]
    }
   ],
   "source": [
    "G = nx.Graph()\n",
    "with open(f\"data/raw/{DATASET_NAME}_edges.csv\", \"r\") as f:\n",
    "    f.readline()  # Skip header\n",
    "    for line in f:\n",
    "        a, b = map(int, line.strip().split(\",\"))\n",
    "        G.add_edge(a, b)\n",
    "print(f\"Number of nodes: {G.number_of_nodes()}\")\n",
    "G = nx.Graph(nx.subgraph(G, max(list(nx.connected_components(G)), key=len))) # Keep only the largest component\n",
    "print(f\"Number of nodes in largest component: {G.number_of_nodes()}\")\n",
    "print(\"Number of edges:\", G.number_of_edges())"
   ]
  },
  {
   "cell_type": "markdown",
   "id": "ecb24401",
   "metadata": {},
   "source": [
    "### Save the largest connected component"
   ]
  },
  {
   "cell_type": "code",
   "execution_count": 5,
   "id": "4bfb6d7d",
   "metadata": {},
   "outputs": [],
   "source": [
    "with open(f\"data/processed/{DATASET_NAME}_edges.csv\", \"w\") as f:\n",
    "    for e in G.edges():\n",
    "        f.write(f\"{e[0]},{e[1]}\\n\")"
   ]
  },
  {
   "cell_type": "code",
   "execution_count": 9,
   "id": "3bedb7ed",
   "metadata": {},
   "outputs": [
    {
     "name": "stdout",
     "output_type": "stream",
     "text": [
      "[7237]\n",
      "[7237, 524]\n",
      "[7237, 524, 3530]\n",
      "[7237, 524, 3530, 3450]\n",
      "[7237, 524, 3530, 3450, 4785]\n"
     ]
    }
   ],
   "source": [
    "for k in range(5):\n",
    "    output = !time ./diff.out ./data/processed/{DATASET_NAME}_edges.csv {NUM_THREADS} {COST_FN} {k + 1}\n",
    "    S = list(map(int, output[2:-6]))\n",
    "    overall_k, desired_k = output[-5].split(\"/\")\n",
    "    time = output[-3].split()[1]\n",
    "    print(time)"
   ]
  },
  {
   "cell_type": "markdown",
   "id": "d16ac851",
   "metadata": {},
   "source": [
    "### Save the largest connected component"
   ]
  },
  {
   "cell_type": "code",
   "execution_count": null,
   "id": "2adb1014",
   "metadata": {},
   "outputs": [],
   "source": []
  }
 ],
 "metadata": {
  "kernelspec": {
   "display_name": ".venv",
   "language": "python",
   "name": "python3"
  },
  "language_info": {
   "codemirror_mode": {
    "name": "ipython",
    "version": 3
   },
   "file_extension": ".py",
   "mimetype": "text/x-python",
   "name": "python",
   "nbconvert_exporter": "python",
   "pygments_lexer": "ipython3",
   "version": "3.13.3"
  }
 },
 "nbformat": 4,
 "nbformat_minor": 5
}
