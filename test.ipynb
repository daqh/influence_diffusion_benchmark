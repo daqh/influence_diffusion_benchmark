{
 "cells": [
  {
   "cell_type": "code",
   "execution_count": 77,
   "id": "c1873c42",
   "metadata": {},
   "outputs": [],
   "source": [
    "import networkx as nx\n",
    "import matplotlib.pyplot as plt\n",
    "from math import ceil\n",
    "from copy import deepcopy\n",
    "import numpy as np\n",
    "from tqdm.auto import tqdm\n",
    "from multiprocessing import Pool"
   ]
  },
  {
   "cell_type": "code",
   "execution_count": 94,
   "id": "305be112",
   "metadata": {},
   "outputs": [
    {
     "name": "stdout",
     "output_type": "stream",
     "text": [
      "Number of nodes: 1005\n",
      "Number of nodes in largest component: 986\n"
     ]
    }
   ],
   "source": [
    "G = nx.Graph()\n",
    "with open(\"data/email-Eu-core/email-Eu-core.txt\", \"r\") as f:\n",
    "    f.readline()  # Skip header\n",
    "    for line in f:\n",
    "        a, b = map(int, line.strip().split(\",\"))\n",
    "        G.add_edge(a, b)\n",
    "print(f\"Number of nodes: {G.number_of_nodes()}\")\n",
    "G = nx.subgraph(G, max(list(nx.connected_components(G)), key=len))\n",
    "print(f\"Number of nodes in largest component: {G.number_of_nodes()}\")"
   ]
  },
  {
   "cell_type": "code",
   "execution_count": 79,
   "id": "bca6ca93",
   "metadata": {},
   "outputs": [],
   "source": [
    "def cost(n: int, G: nx.Graph) -> float:\n",
    "    return 1 # ceil(G.degree(n) / 2)"
   ]
  },
  {
   "cell_type": "markdown",
   "id": "79e25e8f",
   "metadata": {},
   "source": [
    "## Euristiche"
   ]
  },
  {
   "cell_type": "code",
   "execution_count": 80,
   "id": "32d48f38",
   "metadata": {},
   "outputs": [],
   "source": [
    "def f1(S: set[int], neighbors: dict[int, set[int]]) -> float:\n",
    "    result = 0\n",
    "    for v, n_v in neighbors.items():\n",
    "        result += min(len(n_v & S), ceil(len(n_v) / 2))\n",
    "    return result"
   ]
  },
  {
   "cell_type": "markdown",
   "id": "f48b41b4",
   "metadata": {},
   "source": [
    "## Algoritmi di diffusione"
   ]
  },
  {
   "cell_type": "code",
   "execution_count": 81,
   "id": "1c0be4c7",
   "metadata": {},
   "outputs": [],
   "source": [
    "def influence_diffusion(G: nx.Graph, S: set[int], t: np.ndarray):\n",
    "    I = S\n",
    "    sizes = [len(I)]\n",
    "    i = 0\n",
    "    while True:\n",
    "        influenced = {v for v in set(G.nodes()).difference(I) if len(set(nx.neighbors(G, v)).intersection(I)) >= t[v]}\n",
    "        _I = I.union(influenced)\n",
    "        if _I == I:\n",
    "            break\n",
    "        I = _I\n",
    "        sizes.append(len(I))\n",
    "        i += 1\n",
    "    return I, sizes, i"
   ]
  },
  {
   "cell_type": "markdown",
   "id": "f03fae9d",
   "metadata": {},
   "source": [
    "## Seedset"
   ]
  },
  {
   "cell_type": "code",
   "execution_count": 82,
   "id": "beb8104a",
   "metadata": {},
   "outputs": [],
   "source": [
    "from random import randint\n",
    "\n",
    "def random_seeds(G: nx.Graph, k: int, c: callable) -> set[int]:\n",
    "    S_p = set()\n",
    "    S_d = set()\n",
    "    while True:\n",
    "        # Add a random node to S_p\n",
    "        S_p.add(randint(0, G.number_of_nodes() - 1))\n",
    "        if sum([c(n, G) for n in S_p]) >= k:\n",
    "            break\n",
    "        S_d = S_p\n",
    "    # Now S_d is a set of nodes that can be selected\n",
    "    return S_d, k"
   ]
  },
  {
   "cell_type": "code",
   "execution_count": 83,
   "id": "829c470a",
   "metadata": {},
   "outputs": [],
   "source": [
    "def worker(S_d, v, f, c, neighbors):\n",
    "    return (f(S_d.union({v}), neighbors) - f(S_d, neighbors)) / c(v, G)\n",
    "\n",
    "def cost_seeds_greedy(G: nx.Graph, k: int, c: callable, f: callable) -> tuple[set[int], float]:\n",
    "    S_p = set()\n",
    "    S_d = set()\n",
    "    nodes = set(G.nodes())\n",
    "    neighbors = {n: set(G.neighbors(n)) for n in nodes}\n",
    "\n",
    "    while True:\n",
    "        nodes = list(nodes.difference(S_d))\n",
    "        with Pool(24) as pool:\n",
    "            candidates = pool.starmap(worker, [(S_d, v, f, c, neighbors) for v in nodes])\n",
    "        u = nodes[candidates.index(max(candidates))]\n",
    "        S_p = deepcopy(S_d)\n",
    "        S_d = S_p.union({u})\n",
    "        if sum([c(n, G) for n in S_d]) > k:\n",
    "            break\n",
    "        nodes = set(nodes)\n",
    "    return S_p, sum([c(n, G) for n in S_p])"
   ]
  },
  {
   "cell_type": "code",
   "execution_count": 84,
   "id": "7e4c080f",
   "metadata": {},
   "outputs": [],
   "source": [
    "import networkx as nx\n",
    "import numpy as np\n",
    "\n",
    "def wtss(G: nx.Graph, k: int, c: callable, t: np.ndarray):\n",
    "    S = set()\n",
    "    _G = G.copy()\n",
    "    n = len(G)\n",
    "    \n",
    "    d = np.array([G.degree[i] for i in range(n)])\n",
    "    _t = t.copy()\n",
    "\n",
    "    total_cost = 0\n",
    "\n",
    "    nodes_set = set(_G.nodes())\n",
    "\n",
    "    while nodes_set:\n",
    "        activated = [i for i in np.flatnonzero(t == 0) if i in nodes_set]\n",
    "        candidates = [i for i in np.flatnonzero(d < t) if i in nodes_set]\n",
    "\n",
    "        if activated:\n",
    "            v = activated[0]\n",
    "            neighbors = list(G.neighbors(v))\n",
    "            _t[neighbors] = np.maximum(_t[neighbors] - 1, 0)\n",
    "        \n",
    "        elif candidates:\n",
    "            v = candidates[0]\n",
    "            cost_v = c(v, G)\n",
    "            if total_cost + cost_v > k:\n",
    "                break\n",
    "            S.add(v)\n",
    "            total_cost += cost_v\n",
    "            neighbors = list(G.neighbors(v))\n",
    "            _t[neighbors] -= 1\n",
    "        \n",
    "        else:\n",
    "            candidates_scores = {\n",
    "                u: (c(u, G) * _t[u]) / (d[u] * (d[u] + 1)) if d[u] > 0 else float('inf')\n",
    "                for u in nodes_set\n",
    "            }\n",
    "            v = max(candidates_scores, key=candidates_scores.get)\n",
    "        \n",
    "        # Update degree for neighbors and remove the node\n",
    "        for u in G.neighbors(v):\n",
    "            d[u] = d[u] - 1\n",
    "\n",
    "        _G.remove_node(v)\n",
    "        nodes_set.remove(v)\n",
    "\n",
    "    return S, total_cost"
   ]
  },
  {
   "cell_type": "code",
   "execution_count": 85,
   "id": "4f3341ee",
   "metadata": {},
   "outputs": [],
   "source": [
    "from collections import defaultdict"
   ]
  },
  {
   "cell_type": "code",
   "execution_count": 86,
   "id": "d0805632",
   "metadata": {},
   "outputs": [],
   "source": [
    "# degrees = list(map(lambda x: x[1], sorted(dict(nx.degree(G)).items(), key=lambda x: x[0], reverse=False)))"
   ]
  },
  {
   "cell_type": "code",
   "execution_count": 87,
   "id": "580cee4d",
   "metadata": {},
   "outputs": [],
   "source": [
    "degrees = defaultdict(int, nx.degree(G))\n",
    "t = [degrees[v] for v in range(max(G.nodes()) + 1)]"
   ]
  },
  {
   "cell_type": "markdown",
   "id": "5384717a",
   "metadata": {},
   "source": [
    "cost seeds greedy 48m 40s"
   ]
  },
  {
   "cell_type": "code",
   "execution_count": null,
   "id": "50a88ae1",
   "metadata": {},
   "outputs": [
    {
     "name": "stderr",
     "output_type": "stream",
     "text": [
      "  0%|          | 0/50 [00:00<?, ?it/s]"
     ]
    }
   ],
   "source": [
    "sizes = [0,]\n",
    "ks = [0,]\n",
    "for k in tqdm(range(1, (G.number_of_nodes() + 1) // 2, 10)):\n",
    "    S, c = cost_seeds_greedy(G, k, cost, f1)\n",
    "    # S, c = random_seeds(G, k, cost)\n",
    "    # S, c = wtss(G, k, cost, t)\n",
    "    I, s, i = influence_diffusion(G, S, t)\n",
    "    sizes.append(len(I))\n",
    "    ks.append(k)"
   ]
  },
  {
   "cell_type": "code",
   "execution_count": 98,
   "id": "ca144409",
   "metadata": {},
   "outputs": [
    {
     "data": {
      "image/png": "[encoded data removed]",
      "text/plain": [
       "<Figure size 640x480 with 1 Axes>"
      ]
     },
     "metadata": {},
     "output_type": "display_data"
    }
   ],
   "source": [
    "plt.plot(ks, sizes, label=\"Cost Seeds Greedy\")\n",
    "plt.plot(np.linspace(0, (G.number_of_nodes() + 1) // 2, max(ks)))\n",
    "plt.xlabel(\"k\")\n",
    "plt.ylabel(\"Size of the influenced set\")\n",
    "plt.title(\"CSG Influence Diffusion\")\n",
    "plt.grid()"
   ]
  }
 ],
 "metadata": {
  "kernelspec": {
   "display_name": ".venv",
   "language": "python",
   "name": "python3"
  },
  "language_info": {
   "codemirror_mode": {
    "name": "ipython",
    "version": 3
   },
   "file_extension": ".py",
   "mimetype": "text/x-python",
   "name": "python",
   "nbconvert_exporter": "python",
   "pygments_lexer": "ipython3",
   "version": "3.13.3"
  }
 },
 "nbformat": 4,
 "nbformat_minor": 5
}
