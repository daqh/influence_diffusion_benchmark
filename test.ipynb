{
 "cells": [
  {
   "cell_type": "code",
   "execution_count": 1,
   "id": "c1873c42",
   "metadata": {},
   "outputs": [],
   "source": [
    "import networkx as nx\n",
    "import matplotlib.pyplot as plt\n",
    "from math import ceil\n",
    "from copy import deepcopy\n",
    "import numpy as np"
   ]
  },
  {
   "cell_type": "code",
   "execution_count": 2,
   "id": "cc4b1c78",
   "metadata": {},
   "outputs": [],
   "source": [
    "G = nx.generators.gnp_random_graph(50, 0.3)"
   ]
  },
  {
   "cell_type": "code",
   "execution_count": 3,
   "id": "bca6ca93",
   "metadata": {},
   "outputs": [],
   "source": [
    "def node_cost(n: int, G: nx.Graph) -> float:\n",
    "    return 1.0"
   ]
  },
  {
   "cell_type": "markdown",
   "id": "79e25e8f",
   "metadata": {},
   "source": [
    "## Euristiche"
   ]
  },
  {
   "cell_type": "code",
   "execution_count": 4,
   "id": "32d48f38",
   "metadata": {},
   "outputs": [],
   "source": [
    "def f1(S: set[int], G: nx.Graph) -> float:\n",
    "    result = 0\n",
    "    for v in G.nodes():\n",
    "        n_v = set(nx.neighbors(G, v))\n",
    "        result += min(len(n_v.intersection(S)), ceil(len(n_v) / 2))\n",
    "    return result"
   ]
  },
  {
   "cell_type": "markdown",
   "id": "f48b41b4",
   "metadata": {},
   "source": [
    "## Algoritmi di diffusione"
   ]
  },
  {
   "cell_type": "code",
   "execution_count": 5,
   "id": "829c470a",
   "metadata": {},
   "outputs": [],
   "source": [
    "def cost_seeds_greedy(G: nx.Graph, k: int, c: callable, f: callable) -> tuple[set[int], float]:\n",
    "    S_p = set()\n",
    "    S_d = set()\n",
    "    while True:\n",
    "        nodes = list(set(G.nodes()).difference(S_d))\n",
    "        candidates = [\n",
    "            (f(S_d.union({v}), G) - f(S_d, G)) / c(v, G)\n",
    "            for v in nodes\n",
    "        ]\n",
    "        u = nodes[candidates.index(max(candidates))]\n",
    "        S_p = deepcopy(S_d)\n",
    "        S_d = S_p.union({u})\n",
    "        if sum([c(n, G) for n in S_d]) > k:\n",
    "            break\n",
    "    return S_p, sum([c(n, G) for n in S_p])"
   ]
  },
  {
   "cell_type": "code",
   "execution_count": 10,
   "id": "7e4c080f",
   "metadata": {},
   "outputs": [],
   "source": [
    "def wtss(G: nx.Graph, k: int, c: callable, f: callable, t: np.ndarray):\n",
    "    S = set()\n",
    "    _G = deepcopy(G)\n",
    "    d = np.array(list(dict(nx.degree(G)).values()))\n",
    "    _t = t.copy()\n",
    "    while len(_G.nodes()) > 0:\n",
    "        activated = [i for i in (t == 0).nonzero()[0].tolist() if i in _G.nodes()]\n",
    "        candidates = [i for i in (d < t).nonzero()[0].tolist() if i in _G.nodes()]\n",
    "        if len(activated) > 0:\n",
    "            v = activated[0]\n",
    "            for u in nx.neighbors(_G, v):\n",
    "                _t[u] = max(_t[u] - 1, 0)\n",
    "        elif len(candidates) > 0:\n",
    "            v = candidates[0]\n",
    "            # Check the costs\n",
    "            if sum([c(n, _G) for n in S]) + c(v, _G) > k:\n",
    "                break\n",
    "            S.add(v)\n",
    "            for u in nx.neighbors(_G, v):\n",
    "                _t[u] = _t[u] - 1\n",
    "        else:\n",
    "            candidates = {\n",
    "                u: (c(u, _G) * t[u])/(d[u] * (d[u] + 1))\n",
    "                for u in _G.nodes()\n",
    "            }\n",
    "            v = max(candidates, key=candidates.get)\n",
    "        for u in nx.neighbors(_G, v):\n",
    "            d[u] = d[u] - 1\n",
    "        _G.remove_node(v)\n",
    "    return S, sum([c(n, G) for n in S])"
   ]
  },
  {
   "cell_type": "code",
   "execution_count": 11,
   "id": "d0805632",
   "metadata": {},
   "outputs": [
    {
     "data": {
      "text/plain": [
       "({0, 5, 6, 7, 9, 17, 18, 20, 22, 42}, 10.0)"
      ]
     },
     "execution_count": 11,
     "metadata": {},
     "output_type": "execute_result"
    }
   ],
   "source": [
    "t = np.ceil(np.array(list(dict(nx.degree(G)).values())) / 2)\n",
    "k = 10\n",
    "wtss(G, k, node_cost, f1, t)"
   ]
  }
 ],
 "metadata": {
  "kernelspec": {
   "display_name": ".venv",
   "language": "python",
   "name": "python3"
  },
  "language_info": {
   "codemirror_mode": {
    "name": "ipython",
    "version": 3
   },
   "file_extension": ".py",
   "mimetype": "text/x-python",
   "name": "python",
   "nbconvert_exporter": "python",
   "pygments_lexer": "ipython3",
   "version": "3.13.3"
  }
 },
 "nbformat": 4,
 "nbformat_minor": 5
}
