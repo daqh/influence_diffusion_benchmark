{
 "cells": [
  {
   "cell_type": "code",
   "execution_count": 20,
   "id": "c1873c42",
   "metadata": {},
   "outputs": [],
   "source": [
    "import networkx as nx\n",
    "import matplotlib.pyplot as plt\n",
    "from math import ceil\n",
    "from copy import deepcopy\n",
    "import numpy as np"
   ]
  },
  {
   "cell_type": "code",
   "execution_count": 2,
   "id": "cc4b1c78",
   "metadata": {},
   "outputs": [],
   "source": [
    "G = nx.generators.gnp_random_graph(50, 0.3)"
   ]
  },
  {
   "cell_type": "code",
   "execution_count": 3,
   "id": "bca6ca93",
   "metadata": {},
   "outputs": [],
   "source": [
    "def node_cost(n: int, G: nx.Graph) -> float:\n",
    "    return 1.0"
   ]
  },
  {
   "cell_type": "code",
   "execution_count": 4,
   "id": "2245710f",
   "metadata": {},
   "outputs": [],
   "source": [
    "k = 10 # Budget"
   ]
  },
  {
   "cell_type": "code",
   "execution_count": 5,
   "id": "829c470a",
   "metadata": {},
   "outputs": [],
   "source": [
    "def f1(S: set[int], G: nx.Graph) -> float:\n",
    "    result = 0\n",
    "    for v in G.nodes():\n",
    "        n_v = set(nx.neighbors(G, v))\n",
    "        result += min(len(n_v.intersection(S)), ceil(len(n_v) / 2))\n",
    "    return result\n",
    "\n",
    "def cost_seeds_greedy(G: nx.Graph, k: int, c: callable, f: callable) -> tuple[set[int], float]:\n",
    "    S_p = set()\n",
    "    S_d = set()\n",
    "    while True:\n",
    "        nodes = list(set(G.nodes()).difference(S_d))\n",
    "        candidates = [\n",
    "            (f(S_d.union({v}), G) - f(S_d, G)) / c(v, G)\n",
    "            for v in nodes\n",
    "        ]\n",
    "        u = nodes[candidates.index(max(candidates))]\n",
    "        S_p = deepcopy(S_d)\n",
    "        S_d = S_p.union({u})\n",
    "        if sum([c(n, G) for n in S_d]) > k:\n",
    "            break\n",
    "    return S_p, sum([c(n, G) for n in S_p])"
   ]
  },
  {
   "cell_type": "code",
   "execution_count": null,
   "id": "5a17fca7",
   "metadata": {},
   "outputs": [
    {
     "data": {
      "text/plain": [
       "False"
      ]
     },
     "execution_count": 48,
     "metadata": {},
     "output_type": "execute_result"
    }
   ],
   "source": [
    "not set({})."
   ]
  },
  {
   "cell_type": "code",
   "execution_count": null,
   "id": "7e4c080f",
   "metadata": {},
   "outputs": [],
   "source": [
    "def wtss(G: nx.Graph, k: int, c: callable, f: callable, t: np.ndarray):\n",
    "    S = set()\n",
    "    U = set(G.nodes())\n",
    "    d = np.array(list(dict(nx.degree(G)).values()))\n",
    "    while len(U) > 0:\n",
    "        activated = (t == 0).nonzero()[0]\n",
    "        candidates = (d < t).nonzero()[0]\n",
    "        if activated.shape[0] > 0:\n",
    "            pass\n",
    "            # UPDATE N, k\n",
    "        elif candidates.shape[0] > 0:\n",
    "            pass\n",
    "            # Update Seedset\n",
    "            # Update N, k\n",
    "        else:\n",
    "            pass\n",
    "            # u = argmax rispetto all'euristica\n",
    "    return S"
   ]
  },
  {
   "cell_type": "code",
   "execution_count": 41,
   "id": "4760dc71",
   "metadata": {},
   "outputs": [],
   "source": [
    "t = np.array(list(dict(nx.degree(G)).values())) / 2\n",
    "d = np.array(list(dict(nx.degree(G)).values()))"
   ]
  },
  {
   "cell_type": "code",
   "execution_count": 43,
   "id": "d0805632",
   "metadata": {},
   "outputs": [
    {
     "data": {
      "text/plain": [
       "array([], dtype=int64)"
      ]
     },
     "execution_count": 43,
     "metadata": {},
     "output_type": "execute_result"
    }
   ],
   "source": [
    "(d < t).nonzero()[0]"
   ]
  }
 ],
 "metadata": {
  "kernelspec": {
   "display_name": ".venv",
   "language": "python",
   "name": "python3"
  },
  "language_info": {
   "codemirror_mode": {
    "name": "ipython",
    "version": 3
   },
   "file_extension": ".py",
   "mimetype": "text/x-python",
   "name": "python",
   "nbconvert_exporter": "python",
   "pygments_lexer": "ipython3",
   "version": "3.13.3"
  }
 },
 "nbformat": 4,
 "nbformat_minor": 5
}
