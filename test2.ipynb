{
 "cells": [
  {
   "cell_type": "code",
   "execution_count": 1,
   "id": "8ec358f5",
   "metadata": {},
   "outputs": [],
   "source": [
    "import torch\n",
    "import torch.nn.functional as F\n",
    "from multiprocessing import Pool"
   ]
  },
  {
   "cell_type": "code",
   "execution_count": 2,
   "id": "b1127cab",
   "metadata": {},
   "outputs": [],
   "source": [
    "def read_dataset(dataset_path: str):\n",
    "    edge_index = [[], []]\n",
    "    with open(dataset_path, \"r\") as f:\n",
    "        f.readline()  # Skip header\n",
    "        for line in f:\n",
    "            a, b = map(int, line.strip().split(\",\"))\n",
    "            edge_index[0].append(a)\n",
    "            edge_index[0].append(b)\n",
    "            edge_index[1].append(b)\n",
    "            edge_index[1].append(a)\n",
    "    edge_index = torch.tensor(edge_index)\n",
    "    num_nodes = edge_index.max() + 1\n",
    "    sparse = torch.sparse_coo_tensor(\n",
    "        edge_index,\n",
    "        torch.ones(edge_index.shape[1]),\n",
    "        (num_nodes, num_nodes),\n",
    "        dtype=torch.float32\n",
    "    ).coalesce()\n",
    "    return sparse.indices(), sparse"
   ]
  },
  {
   "cell_type": "code",
   "execution_count": 3,
   "id": "cdebee76",
   "metadata": {},
   "outputs": [],
   "source": [
    "edge_index, sparse = read_dataset(\"data/lasftm_asia/lastfm_asia_edges.csv\")\n",
    "num_nodes = edge_index.max() + 1"
   ]
  },
  {
   "cell_type": "code",
   "execution_count": 4,
   "id": "189aece5",
   "metadata": {},
   "outputs": [],
   "source": [
    "def cost(v: int, sparse: torch.sparse.FloatTensor):\n",
    "    return 1"
   ]
  },
  {
   "cell_type": "code",
   "execution_count": 5,
   "id": "6862539a",
   "metadata": {},
   "outputs": [],
   "source": [
    "def f1(S: torch.Tensor, sparse: torch.sparse.FloatTensor):\n",
    "    a = (sparse * S) # Get intersections between S and the Graph\n",
    "    intersection = a.indices()[0, a.values().nonzero().flatten()].bincount()\n",
    "    intersection = F.pad(intersection, (0, num_nodes - intersection.shape[0]), value=0)\n",
    "    return torch.minimum(\n",
    "        intersection,\n",
    "        edge_index[0].bincount() / 2\n",
    "    ).sum()"
   ]
  },
  {
   "cell_type": "code",
   "execution_count": 6,
   "id": "cb542420",
   "metadata": {},
   "outputs": [],
   "source": [
    "num_nodes = sparse.indices().max() + 1\n",
    "S_p = torch.zeros(num_nodes, dtype=torch.float32)\n",
    "S_d = torch.zeros(num_nodes, dtype=torch.float32)\n",
    "nodes = torch.ones(num_nodes, dtype=torch.float32)\n",
    "ss_cost = 0"
   ]
  },
  {
   "cell_type": "code",
   "execution_count": 7,
   "id": "f2c09ada",
   "metadata": {},
   "outputs": [
    {
     "ename": "KeyboardInterrupt",
     "evalue": "",
     "output_type": "error",
     "traceback": [
      "\u001b[31m---------------------------------------------------------------------------\u001b[39m",
      "\u001b[31mKeyboardInterrupt\u001b[39m                         Traceback (most recent call last)",
      "\u001b[36mCell\u001b[39m\u001b[36m \u001b[39m\u001b[32mIn[7]\u001b[39m\u001b[32m, line 5\u001b[39m\n\u001b[32m      2\u001b[39m     \u001b[38;5;28;01mreturn\u001b[39;00m f1(S_d + F.one_hot(torch.tensor(v), num_nodes).detach(), sparse)\n\u001b[32m      4\u001b[39m \u001b[38;5;28;01mwith\u001b[39;00m Pool(\u001b[32m12\u001b[39m) \u001b[38;5;28;01mas\u001b[39;00m pool:\n\u001b[32m----> \u001b[39m\u001b[32m5\u001b[39m     results = \u001b[43mpool\u001b[49m\u001b[43m.\u001b[49m\u001b[43mmap\u001b[49m\u001b[43m(\u001b[49m\u001b[43mworker\u001b[49m\u001b[43m,\u001b[49m\u001b[43m \u001b[49m\u001b[43m[\u001b[49m\u001b[43mv\u001b[49m\u001b[43m \u001b[49m\u001b[38;5;28;43;01mfor\u001b[39;49;00m\u001b[43m \u001b[49m\u001b[43mv\u001b[49m\u001b[43m \u001b[49m\u001b[38;5;129;43;01min\u001b[39;49;00m\u001b[43m \u001b[49m\u001b[38;5;28;43mrange\u001b[39;49m\u001b[43m(\u001b[49m\u001b[43mnum_nodes\u001b[49m\u001b[43m)\u001b[49m\u001b[43m]\u001b[49m\u001b[43m)\u001b[49m\n",
      "\u001b[36mFile \u001b[39m\u001b[32m/usr/lib/python3.13/multiprocessing/pool.py:367\u001b[39m, in \u001b[36mPool.map\u001b[39m\u001b[34m(self, func, iterable, chunksize)\u001b[39m\n\u001b[32m    362\u001b[39m \u001b[38;5;28;01mdef\u001b[39;00m\u001b[38;5;250m \u001b[39m\u001b[34mmap\u001b[39m(\u001b[38;5;28mself\u001b[39m, func, iterable, chunksize=\u001b[38;5;28;01mNone\u001b[39;00m):\n\u001b[32m    363\u001b[39m \u001b[38;5;250m    \u001b[39m\u001b[33;03m'''\u001b[39;00m\n\u001b[32m    364\u001b[39m \u001b[33;03m    Apply `func` to each element in `iterable`, collecting the results\u001b[39;00m\n\u001b[32m    365\u001b[39m \u001b[33;03m    in a list that is returned.\u001b[39;00m\n\u001b[32m    366\u001b[39m \u001b[33;03m    '''\u001b[39;00m\n\u001b[32m--> \u001b[39m\u001b[32m367\u001b[39m     \u001b[38;5;28;01mreturn\u001b[39;00m \u001b[38;5;28;43mself\u001b[39;49m\u001b[43m.\u001b[49m\u001b[43m_map_async\u001b[49m\u001b[43m(\u001b[49m\u001b[43mfunc\u001b[49m\u001b[43m,\u001b[49m\u001b[43m \u001b[49m\u001b[43miterable\u001b[49m\u001b[43m,\u001b[49m\u001b[43m \u001b[49m\u001b[43mmapstar\u001b[49m\u001b[43m,\u001b[49m\u001b[43m \u001b[49m\u001b[43mchunksize\u001b[49m\u001b[43m)\u001b[49m\u001b[43m.\u001b[49m\u001b[43mget\u001b[49m\u001b[43m(\u001b[49m\u001b[43m)\u001b[49m\n",
      "\u001b[36mFile \u001b[39m\u001b[32m/usr/lib/python3.13/multiprocessing/pool.py:768\u001b[39m, in \u001b[36mApplyResult.get\u001b[39m\u001b[34m(self, timeout)\u001b[39m\n\u001b[32m    767\u001b[39m \u001b[38;5;28;01mdef\u001b[39;00m\u001b[38;5;250m \u001b[39m\u001b[34mget\u001b[39m(\u001b[38;5;28mself\u001b[39m, timeout=\u001b[38;5;28;01mNone\u001b[39;00m):\n\u001b[32m--> \u001b[39m\u001b[32m768\u001b[39m     \u001b[38;5;28;43mself\u001b[39;49m\u001b[43m.\u001b[49m\u001b[43mwait\u001b[49m\u001b[43m(\u001b[49m\u001b[43mtimeout\u001b[49m\u001b[43m)\u001b[49m\n\u001b[32m    769\u001b[39m     \u001b[38;5;28;01mif\u001b[39;00m \u001b[38;5;129;01mnot\u001b[39;00m \u001b[38;5;28mself\u001b[39m.ready():\n\u001b[32m    770\u001b[39m         \u001b[38;5;28;01mraise\u001b[39;00m \u001b[38;5;167;01mTimeoutError\u001b[39;00m\n",
      "\u001b[36mFile \u001b[39m\u001b[32m/usr/lib/python3.13/multiprocessing/pool.py:765\u001b[39m, in \u001b[36mApplyResult.wait\u001b[39m\u001b[34m(self, timeout)\u001b[39m\n\u001b[32m    764\u001b[39m \u001b[38;5;28;01mdef\u001b[39;00m\u001b[38;5;250m \u001b[39m\u001b[34mwait\u001b[39m(\u001b[38;5;28mself\u001b[39m, timeout=\u001b[38;5;28;01mNone\u001b[39;00m):\n\u001b[32m--> \u001b[39m\u001b[32m765\u001b[39m     \u001b[38;5;28;43mself\u001b[39;49m\u001b[43m.\u001b[49m\u001b[43m_event\u001b[49m\u001b[43m.\u001b[49m\u001b[43mwait\u001b[49m\u001b[43m(\u001b[49m\u001b[43mtimeout\u001b[49m\u001b[43m)\u001b[49m\n",
      "\u001b[36mFile \u001b[39m\u001b[32m/usr/lib/python3.13/threading.py:659\u001b[39m, in \u001b[36mEvent.wait\u001b[39m\u001b[34m(self, timeout)\u001b[39m\n\u001b[32m    657\u001b[39m signaled = \u001b[38;5;28mself\u001b[39m._flag\n\u001b[32m    658\u001b[39m \u001b[38;5;28;01mif\u001b[39;00m \u001b[38;5;129;01mnot\u001b[39;00m signaled:\n\u001b[32m--> \u001b[39m\u001b[32m659\u001b[39m     signaled = \u001b[38;5;28;43mself\u001b[39;49m\u001b[43m.\u001b[49m\u001b[43m_cond\u001b[49m\u001b[43m.\u001b[49m\u001b[43mwait\u001b[49m\u001b[43m(\u001b[49m\u001b[43mtimeout\u001b[49m\u001b[43m)\u001b[49m\n\u001b[32m    660\u001b[39m \u001b[38;5;28;01mreturn\u001b[39;00m signaled\n",
      "\u001b[36mFile \u001b[39m\u001b[32m/usr/lib/python3.13/threading.py:359\u001b[39m, in \u001b[36mCondition.wait\u001b[39m\u001b[34m(self, timeout)\u001b[39m\n\u001b[32m    357\u001b[39m \u001b[38;5;28;01mtry\u001b[39;00m:    \u001b[38;5;66;03m# restore state no matter what (e.g., KeyboardInterrupt)\u001b[39;00m\n\u001b[32m    358\u001b[39m     \u001b[38;5;28;01mif\u001b[39;00m timeout \u001b[38;5;129;01mis\u001b[39;00m \u001b[38;5;28;01mNone\u001b[39;00m:\n\u001b[32m--> \u001b[39m\u001b[32m359\u001b[39m         \u001b[43mwaiter\u001b[49m\u001b[43m.\u001b[49m\u001b[43macquire\u001b[49m\u001b[43m(\u001b[49m\u001b[43m)\u001b[49m\n\u001b[32m    360\u001b[39m         gotit = \u001b[38;5;28;01mTrue\u001b[39;00m\n\u001b[32m    361\u001b[39m     \u001b[38;5;28;01melse\u001b[39;00m:\n",
      "\u001b[31mKeyboardInterrupt\u001b[39m: "
     ]
    }
   ],
   "source": [
    "def worker(v):\n",
    "    return f1(S_d + F.one_hot(torch.tensor(v), num_nodes).detach(), sparse)\n",
    "\n",
    "with Pool(12) as pool:\n",
    "    results = pool.map(worker, [v for v in range(num_nodes)])"
   ]
  },
  {
   "cell_type": "code",
   "execution_count": null,
   "id": "c8943e3f",
   "metadata": {},
   "outputs": [],
   "source": [
    "def cost_seeds_greedy(sparse: torch.sparse.FloatTensor, k: int, f: callable, c: callable):\n",
    "    num_nodes = sparse.indices().max() + 1\n",
    "    S_p = torch.zeros(num_nodes, dtype=torch.float32)\n",
    "    S_d = torch.zeros(num_nodes, dtype=torch.float32)\n",
    "    nodes = torch.ones(num_nodes, dtype=torch.float32)\n",
    "    ss_cost = 0\n",
    "    while True:\n",
    "        nodes = nodes * (1. - S_d)\n",
    "        u = torch.tensor([f1(S_d + F.one_hot(torch.tensor(v), num_nodes).detach(), sparse) for v in range(num_nodes)]).argmax()\n",
    "        S_p = S_d.detach().clone()\n",
    "        S_d = S_d + F.one_hot(torch.tensor(u), num_nodes)\n",
    "        ss_cost_temp = ss_cost + c(u, sparse)\n",
    "        if ss_cost_temp > k:\n",
    "            break\n",
    "        ss_cost = ss_cost_temp\n",
    "    return S_p, ss_cost"
   ]
  },
  {
   "cell_type": "code",
   "execution_count": null,
   "id": "f4329c24",
   "metadata": {},
   "outputs": [],
   "source": [
    "cost_seeds_greedy(sparse, 10, f1, cost)"
   ]
  },
  {
   "cell_type": "code",
   "execution_count": null,
   "id": "90024a07",
   "metadata": {},
   "outputs": [],
   "source": []
  }
 ],
 "metadata": {
  "kernelspec": {
   "display_name": ".venv",
   "language": "python",
   "name": "python3"
  },
  "language_info": {
   "codemirror_mode": {
    "name": "ipython",
    "version": 3
   },
   "file_extension": ".py",
   "mimetype": "text/x-python",
   "name": "python",
   "nbconvert_exporter": "python",
   "pygments_lexer": "ipython3",
   "version": "3.13.3"
  }
 },
 "nbformat": 4,
 "nbformat_minor": 5
}
